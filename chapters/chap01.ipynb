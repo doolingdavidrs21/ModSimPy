{
 "cells": [
  {
   "cell_type": "markdown",
   "id": "a8b892c8",
   "metadata": {},
   "source": [
    "Printed and electronic copies of *Modeling and Simulation in Python* are available from [No Starch Press](https://nostarch.com/modeling-and-simulation-python) and [Bookshop.org](https://bookshop.org/p/books/modeling-and-simulation-in-python-allen-b-downey/17836697?ean=9781718502161) and [Amazon](https://amzn.to/3y9UxNb)."
   ]
  },
  {
   "cell_type": "markdown",
   "id": "affecting-malta",
   "metadata": {},
   "source": [
    "# Modeling"
   ]
  },
  {
   "cell_type": "markdown",
   "id": "pressed-palestinian",
   "metadata": {
    "tags": []
   },
   "source": [
    "*Modeling and Simulation in Python*\n",
    "\n",
    "Copyright 2021 Allen Downey\n",
    "\n",
    "License: [Creative Commons Attribution-NonCommercial-ShareAlike 4.0 International](https://creativecommons.org/licenses/by-nc-sa/4.0/)"
   ]
  },
  {
   "cell_type": "markdown",
   "id": "confirmed-budapest",
   "metadata": {
    "tags": []
   },
   "source": [
    "## Jupyter\n",
    "\n",
    "Welcome to *Modeling and Simulation in Python*, and welcome to Jupyter.\n",
    "\n",
    "This is a Jupyter notebook, which is a development environment where you can write and run Python code.  Each notebook is divided into cells.  Each cell contains either text (like this cell) or Python code."
   ]
  },
  {
   "cell_type": "markdown",
   "id": "danish-scope",
   "metadata": {
    "tags": []
   },
   "source": [
    "To run a cell, hold down SHIFT and press ENTER.  \n",
    "\n",
    "* If you run a text cell, Jupyter formats the text and displays the result.\n",
    "\n",
    "* If you run a code cell, Jupyter runs the Python code in the cell and displays the result, if any.\n",
    "\n",
    "The following cells check whether the libraries we need are installed.  If so, the cells produce no output.  If not, you'll see updates from the installer."
   ]
  },
  {
   "cell_type": "code",
   "execution_count": 1,
   "id": "passive-dayton",
   "metadata": {
    "tags": []
   },
   "outputs": [],
   "source": [
    "# install Pint if necessary\n",
    "\n",
    "try:\n",
    "    from pint import UnitRegistry\n",
    "except ImportError:\n",
    "    !pip install pint"
   ]
  },
  {
   "cell_type": "code",
   "execution_count": 2,
   "id": "prompt-committee",
   "metadata": {
    "tags": []
   },
   "outputs": [
    {
     "name": "stdout",
     "output_type": "stream",
     "text": [
      "Downloaded modsim.py\n"
     ]
    }
   ],
   "source": [
    "# download modsim.py if necessary\n",
    "\n",
    "from os.path import basename, exists\n",
    "\n",
    "def download(url):\n",
    "    filename = basename(url)\n",
    "    if not exists(filename):\n",
    "        from urllib.request import urlretrieve\n",
    "        local, _ = urlretrieve(url, filename)\n",
    "        print('Downloaded ' + local)\n",
    "    \n",
    "download('https://github.com/AllenDowney/ModSimPy/raw/master/' +\n",
    "         'modsim.py')"
   ]
  },
  {
   "cell_type": "code",
   "execution_count": 4,
   "id": "fifteen-train",
   "metadata": {
    "tags": []
   },
   "outputs": [],
   "source": [
    "# import functions from modsim\n",
    "\n",
    "from modsim import *"
   ]
  },
  {
   "cell_type": "markdown",
   "id": "chronic-moore",
   "metadata": {},
   "source": [
    "This chapter introduces the modeling framework we will use throughout the book, and works through our first example, using a simple model of physics to evaluate the claim that a penny falling from the height of the Empire State Building could kill someone if it hit them on the head. Also, you'll see how to do computation in Python with units like meters and seconds."
   ]
  },
  {
   "cell_type": "markdown",
   "id": "extensive-proposition",
   "metadata": {},
   "source": [
    "This chapter is available as a Jupyter notebook where you can read the text, run the code, and work on the exercises. \n",
    "Click here to access the notebooks: <https://allendowney.github.io/ModSimPy/>."
   ]
  },
  {
   "cell_type": "markdown",
   "id": "hourly-financing",
   "metadata": {},
   "source": [
    "## The Modeling Framework\n",
    "\n",
    "This book is about modeling and simulating physical systems. The\n",
    "following diagram shows what I mean by *modeling*:\n",
    "\n",
    "![Diagram of the modeling framework.](https://github.com/AllenDowney/ModSim/raw/main/figs/modeling_framework.png)"
   ]
  },
  {
   "cell_type": "markdown",
   "id": "structured-receiver",
   "metadata": {},
   "source": [
    "Starting in the lower left, the *system* is something in the real\n",
    "world we are interested in. \n",
    "To model the system, we have to decide which elements of the real world to include and which we can leave out.\n",
    "This process is called *abstraction*.\n",
    "\n",
    "The result of abstraction is a *model*, which is a description of the system that includes only the features we think are essential. A model\n",
    "can be represented in the form of diagrams and equations, which can be\n",
    "used for mathematical *analysis*. It can also be implemented in the\n",
    "form of a computer program, which can run *simulations*.\n",
    "\n",
    "The result of analysis and simulation might be a *prediction* about\n",
    "what the system will do, an *explanation* of why it behaves the way it\n",
    "does, or a *design* intended to achieve a purpose.\n",
    "\n",
    "We can *validate* predictions and test designs by taking\n",
    "*measurements* from the real world and comparing the *data* we get\n",
    "with the results from analysis and simulation."
   ]
  },
  {
   "cell_type": "markdown",
   "id": "center-accommodation",
   "metadata": {},
   "source": [
    "For any physical system, there are many possible models, each one\n",
    "including and excluding different features, or including different\n",
    "levels of detail. The goal of the modeling process is to find the model\n",
    "best suited to its purpose (prediction, explanation, or design).\n",
    "\n",
    "Sometimes the best model is the most detailed. If we include more\n",
    "features, the model is more realistic, and we expect its predictions to\n",
    "be more accurate.\n",
    "But often a simpler model is better. If we include only the essential\n",
    "features and leave out the rest, we get models that are easier to work\n",
    "with, and the explanations they provide can be clearer and more\n",
    "compelling."
   ]
  },
  {
   "cell_type": "markdown",
   "id": "confirmed-highlight",
   "metadata": {},
   "source": [
    "As an example, suppose someone asks you why the orbit of the Earth is\n",
    "elliptical. If you model the Earth and Sun as point masses (ignoring\n",
    "their actual size), compute the gravitational force between them using\n",
    "Newton's law of universal gravitation, and compute the resulting orbit\n",
    "using Newton's laws of motion, you can show that the result is an\n",
    "ellipse.\n",
    "Of course, the actual orbit of Earth is not a perfect ellipse, because\n",
    "of the gravitational forces of the Moon, Jupiter, and other objects in\n",
    "the solar system, and because Newton's laws of motion are only\n",
    "approximately true (they don't take into account relativistic effects).\n",
    "But adding these features to the model would not improve the\n",
    "explanation; more detail would only be a distraction from the\n",
    "fundamental cause. However, if the goal is to predict the position of\n",
    "the Earth with great precision, including more details might be\n",
    "necessary."
   ]
  },
  {
   "cell_type": "markdown",
   "id": "stretch-geneva",
   "metadata": {},
   "source": [
    "Choosing the best model depends on what the model is for. It is usually\n",
    "a good idea to start with a simple model, even if it is likely to be too\n",
    "simple, and test whether it is good enough for its purpose. Then you can\n",
    "add features gradually, starting with the ones you expect to be most\n",
    "essential. This process is called *iterative modeling*.\n",
    "\n",
    "Comparing results of successive models provides a form of *internal\n",
    "validation*, so you can catch conceptual, mathematical, and software\n",
    "errors. And by adding and removing features, you can tell which ones\n",
    "have the biggest effect on the results, and which can be ignored.\n",
    "\n",
    "Comparing results to data from the real world provides *external\n",
    "validation*, which is generally the strongest test.\n",
    "\n",
    "The modeling framework is pretty abstract; the following example might make it clearer."
   ]
  },
  {
   "cell_type": "markdown",
   "id": "criminal-lunch",
   "metadata": {},
   "source": [
    "## The Falling Penny Myth\n",
    "\n",
    "You might have heard that a\n",
    "penny dropped from the top of the Empire State Building would be going\n",
    "so fast when it hit the pavement that it would be embedded in the\n",
    "concrete; or if it hit a person, it would break their skull.\n",
    "\n",
    "We can test this myth by making and analyzing two models. For the first model,\n",
    "we'll assume that the effect of air resistance is small. In that case, the primary force acting on the penny is gravity, which causes the penny to accelerate downward.\n",
    "\n",
    "If the initial velocity is 0 and the acceleration, $a$, is constant, the velocity after $t$ seconds is \n",
    "\n",
    "$$v = a t$$\n",
    "\n",
    "and the distance the penny has dropped is \n",
    "\n",
    "$$x = a t^2 / 2$$ \n",
    "\n",
    "To find the time until the penny reaches the sidewalk, we can solve for $t$:\n",
    "\n",
    "$$t = \\sqrt{ 2 x / a}$$ \n",
    "\n",
    "Plugging in the acceleration of gravity, $a = 9.8$ m/s$^2$, and the height of the Empire State Building, $x = 381$ m, we get $t = 8.8$ s. \n",
    "\n",
    "Then computing $v = a t$ we get a velocity on impact of $86$ m/s, which is about 190 miles per hour. That sounds like it could hurt."
   ]
  },
  {
   "cell_type": "markdown",
   "id": "documentary-diagnosis",
   "metadata": {},
   "source": [
    "Of course, these results are not exact because the model is based on simplifications. For example, we assume that gravity is constant. \n",
    "In fact, the force of gravity is different on different parts of the globe, and it gets weaker as you move away from the surface. \n",
    "But these differences are small, so ignoring them is probably a good choice for this problem.\n",
    "\n",
    "On the other hand, ignoring air resistance is not a good choice, because in this scenario its effect is substantial.\n",
    "Once the penny gets to about 29 m/s, the upward force of air resistance equals the downward force of gravity, so the penny stops accelerating.\n",
    "This is the *terminal velocity* of the penny in air.\n",
    "\n",
    "And that suggests a second model, where the penny accelerates until it reaches terminal velocity; after that, acceleration is 0 and velocity is constant.\n",
    "In this model, the penny hits the sidewalk at about 29 m/s.\n",
    "That's much less than 86 m/s, which is what the first model predicts.\n",
    "Getting hit with a penny at that speed might hurt, but it would be unlikely to cause real harm. And it would not damage concrete."
   ]
  },
  {
   "cell_type": "markdown",
   "id": "recent-appliance",
   "metadata": {},
   "source": [
    "The statistician George Box famously said \"All models are wrong, but\n",
    "some are useful.\" He was talking about statistical models, but his wise words apply to all kinds of models. Our first model, which ignores air resistance, is very wrong, and probably not useful. The second model, which takes air resistance into account, is still wrong, but it's better, and it's good enough to refute the myth.\n",
    "\n",
    "The television show *Mythbusters* has tested the myth of the falling\n",
    "penny more carefully; you can view the results at\n",
    "<https://modsimpy.com/myth/>. Their work is based on a mathematical model of motion, measurements to determine the force of air resistance on a penny, and a physical model of a human head."
   ]
  },
  {
   "cell_type": "markdown",
   "id": "brief-zoning",
   "metadata": {},
   "source": [
    "## Computation In Python\n",
    "\n",
    "Let me show you how I computed the results from the\n",
    "previous section using Python.\n",
    "First we'll create a variable to represent acceleration due to gravity in meters per second squared (m/s$^2$)."
   ]
  },
  {
   "cell_type": "code",
   "execution_count": 5,
   "id": "eleven-marine",
   "metadata": {},
   "outputs": [],
   "source": [
    "a = 9.8"
   ]
  },
  {
   "cell_type": "markdown",
   "id": "upset-myanmar",
   "metadata": {},
   "source": [
    "A *variable* is a name that corresponds to a value. In this example, the name is `a` and the value is the number `9.8`.\n",
    "\n",
    "Suppose we let the penny drop for $3.4$ seconds (s).  I'll create a variable to represent this time:"
   ]
  },
  {
   "cell_type": "code",
   "execution_count": 6,
   "id": "following-launch",
   "metadata": {},
   "outputs": [],
   "source": [
    "t = 3.4"
   ]
  },
  {
   "cell_type": "markdown",
   "id": "greek-heritage",
   "metadata": {},
   "source": [
    "Now we can compute the velocity of the penny after `t` seconds."
   ]
  },
  {
   "cell_type": "code",
   "execution_count": 7,
   "id": "mature-duration",
   "metadata": {},
   "outputs": [],
   "source": [
    "v = a * t"
   ]
  },
  {
   "cell_type": "markdown",
   "id": "serial-pilot",
   "metadata": {},
   "source": [
    "Python uses the symbol `*` for multiplication.  The other arithmetic operators are `+` for addition, `-` for subtraction, `/` for division, and `**` for exponentiation."
   ]
  },
  {
   "cell_type": "markdown",
   "id": "qualified-diabetes",
   "metadata": {},
   "source": [
    "After you assign a value to a variable, you can display the value like this:"
   ]
  },
  {
   "cell_type": "code",
   "execution_count": 8,
   "id": "considered-inclusion",
   "metadata": {},
   "outputs": [
    {
     "data": {
      "text/plain": [
       "33.32"
      ]
     },
     "execution_count": 8,
     "metadata": {},
     "output_type": "execute_result"
    }
   ],
   "source": [
    "v"
   ]
  },
  {
   "cell_type": "markdown",
   "id": "northern-saturday",
   "metadata": {},
   "source": [
    "After $3.4$ s, the velocity of the penny is about $33$ m/s (ignoring air resistance).  Now let's see how far it would travel during that time:"
   ]
  },
  {
   "cell_type": "code",
   "execution_count": 9,
   "id": "valued-electricity",
   "metadata": {},
   "outputs": [
    {
     "data": {
      "text/plain": [
       "56.644"
      ]
     },
     "execution_count": 9,
     "metadata": {},
     "output_type": "execute_result"
    }
   ],
   "source": [
    "x = a * t**2 / 2\n",
    "x"
   ]
  },
  {
   "cell_type": "markdown",
   "id": "yellow-business",
   "metadata": {},
   "source": [
    "It would travel about $56$ m.  Now, going in the other direction, let's compute the time it takes to fall 381 m, the height of the Empire State Building."
   ]
  },
  {
   "cell_type": "code",
   "execution_count": 10,
   "id": "closed-month",
   "metadata": {},
   "outputs": [],
   "source": [
    "h = 381"
   ]
  },
  {
   "cell_type": "markdown",
   "id": "fuzzy-lease",
   "metadata": {},
   "source": [
    "For this computation, we need the square root function, `sqrt`, which is provided by a library called NumPy.\n",
    "Before we can use it, we have to import it like this:"
   ]
  },
  {
   "cell_type": "code",
   "execution_count": 11,
   "id": "nuclear-clone",
   "metadata": {},
   "outputs": [],
   "source": [
    "from numpy import sqrt"
   ]
  },
  {
   "cell_type": "markdown",
   "id": "unlimited-swiss",
   "metadata": {},
   "source": [
    "Now we can use it like this:"
   ]
  },
  {
   "cell_type": "code",
   "execution_count": 12,
   "id": "quarterly-nightmare",
   "metadata": {},
   "outputs": [
    {
     "data": {
      "text/plain": [
       "np.float64(8.817885349720552)"
      ]
     },
     "execution_count": 12,
     "metadata": {},
     "output_type": "execute_result"
    }
   ],
   "source": [
    "t = sqrt(2 * h / a)\n",
    "t"
   ]
  },
  {
   "cell_type": "markdown",
   "id": "velvet-oklahoma",
   "metadata": {},
   "source": [
    "With no air resistance, it would take about $8.8$ s for the penny to reach the sidewalk."
   ]
  },
  {
   "cell_type": "code",
   "execution_count": 13,
   "id": "quality-external",
   "metadata": {},
   "outputs": [
    {
     "data": {
      "text/plain": [
       "np.float64(86.41527642726142)"
      ]
     },
     "execution_count": 13,
     "metadata": {},
     "output_type": "execute_result"
    }
   ],
   "source": [
    "v = a * t\n",
    "v"
   ]
  },
  {
   "cell_type": "markdown",
   "id": "active-lobby",
   "metadata": {},
   "source": [
    "And its velocity on impact would be about $86$ m/s."
   ]
  },
  {
   "cell_type": "markdown",
   "id": "human-phase",
   "metadata": {},
   "source": [
    "### False Precision\n",
    "\n",
    "Python displays results with about 16 digits, which gives the impression that they are very precise, but don't be fooled.\n",
    "The numbers we get out are only as good as the numbers we put in.\n",
    "\n",
    "For example, the \"roof height\" of the Empire State Building is $380$ m (according to Wikipedia: <https://en.wikipedia.org/wiki/Empire_State_Building>).\n",
    "I chose $h=381$ m for this example on the assumption that the observation deck is on the roof and you drop the penny from a 1 meter railing.\n",
    "But that's probably not right, so we should treat this value as an approximation where only the first two digits are likely to be right.\n",
    "\n",
    "If the precision of the inputs is two digits, the precision of the outputs is two digits, *at most*.\n",
    "That's why, if the output is `86.41527642726142`, I report it as \"about 86\"."
   ]
  },
  {
   "cell_type": "markdown",
   "id": "clinical-blackjack",
   "metadata": {},
   "source": [
    "### Computation With Units\n",
    "\n",
    "The computations we just did use numbers without units.\n",
    "When we set `h=381`, we left out the meters, and when we set `a=9.8`, we left out the meters per second squared.\n",
    "And, when we got the result `v=86`, we added back the meters per second.\n",
    "\n",
    "Leaving units out of computation is a common practice, but it tends to cause errors, including the very expensive failure of the Mars Climate Orbiter in 1999 (see <https://en.wikipedia.org/wiki/Mars_Climate_Orbiter>).\n",
    "When possible, it is better to include units in the computation.\n",
    "\n",
    "To represent units, we'll use a library called Pint (<https://pint.readthedocs.io/>).\n",
    "To use it, we have to import a function called `UnitRegistry` and call it like this:"
   ]
  },
  {
   "cell_type": "code",
   "execution_count": 14,
   "id": "lovely-declaration",
   "metadata": {},
   "outputs": [],
   "source": [
    "from pint import UnitRegistry\n",
    "\n",
    "units = UnitRegistry()"
   ]
  },
  {
   "cell_type": "markdown",
   "id": "consecutive-sleeve",
   "metadata": {},
   "source": [
    "The result is an object that contains variables representing pretty much every unit you've heard of.\n",
    "For example:"
   ]
  },
  {
   "cell_type": "code",
   "execution_count": 15,
   "id": "cardiac-class",
   "metadata": {},
   "outputs": [
    {
     "data": {
      "text/html": [
       "league"
      ],
      "text/latex": [
       "$\\mathrm{league}$"
      ],
      "text/plain": [
       "<Unit('league')>"
      ]
     },
     "execution_count": 15,
     "metadata": {},
     "output_type": "execute_result"
    }
   ],
   "source": [
    "units.league"
   ]
  },
  {
   "cell_type": "code",
   "execution_count": 16,
   "id": "phantom-copper",
   "metadata": {},
   "outputs": [
    {
     "data": {
      "text/html": [
       "fortnight"
      ],
      "text/latex": [
       "$\\mathrm{fortnight}$"
      ],
      "text/plain": [
       "<Unit('fortnight')>"
      ]
     },
     "execution_count": 16,
     "metadata": {},
     "output_type": "execute_result"
    }
   ],
   "source": [
    "units.fortnight"
   ]
  },
  {
   "cell_type": "markdown",
   "id": "unlike-opera",
   "metadata": {},
   "source": [
    "But leagues and fortnights are not part of the International System of Units\n",
    "(see <https://en.wikipedia.org/wiki/International_System_of_Units>); in the jargon, they are not \"SI units\".\n",
    "Instead, we will use `meter` and `second`."
   ]
  },
  {
   "cell_type": "code",
   "execution_count": 17,
   "id": "russian-popularity",
   "metadata": {},
   "outputs": [
    {
     "data": {
      "text/html": [
       "meter"
      ],
      "text/latex": [
       "$\\mathrm{meter}$"
      ],
      "text/plain": [
       "<Unit('meter')>"
      ]
     },
     "execution_count": 17,
     "metadata": {},
     "output_type": "execute_result"
    }
   ],
   "source": [
    "meter = units.meter\n",
    "meter"
   ]
  },
  {
   "cell_type": "code",
   "execution_count": 18,
   "id": "endless-paint",
   "metadata": {},
   "outputs": [
    {
     "data": {
      "text/html": [
       "second"
      ],
      "text/latex": [
       "$\\mathrm{second}$"
      ],
      "text/plain": [
       "<Unit('second')>"
      ]
     },
     "execution_count": 18,
     "metadata": {},
     "output_type": "execute_result"
    }
   ],
   "source": [
    "second = units.second\n",
    "second"
   ]
  },
  {
   "cell_type": "markdown",
   "id": "spiritual-scenario",
   "metadata": {
    "tags": []
   },
   "source": [
    "To find out what other units are defined, type `units.` (including the period) in the next cell.\n",
    "\n",
    "If you are on Colab, a pop-up menu should appear with a list of units.\n",
    "In other Jupyter environments, you might have to press `TAB` to get the menu."
   ]
  },
  {
   "cell_type": "code",
   "execution_count": 19,
   "id": "saving-suggestion",
   "metadata": {
    "tags": []
   },
   "outputs": [
    {
     "data": {
      "text/plain": [
       "['%',\n",
       " 'A',\n",
       " 'A_90',\n",
       " 'A_US',\n",
       " 'A_it',\n",
       " 'Ah',\n",
       " 'At',\n",
       " 'B',\n",
       " 'BDFT',\n",
       " 'BF',\n",
       " 'BTU',\n",
       " 'Ba',\n",
       " 'Bd',\n",
       " 'Bi',\n",
       " 'Bq',\n",
       " 'Btu',\n",
       " 'Btu_iso',\n",
       " 'Btu_it',\n",
       " 'Btu_th',\n",
       " 'C',\n",
       " 'C_90',\n",
       " 'Ci',\n",
       " 'Cl',\n",
       " 'Context',\n",
       " 'D',\n",
       " 'DPI',\n",
       " 'Da',\n",
       " 'ECC',\n",
       " 'EC_therm',\n",
       " 'E_h',\n",
       " 'Eh',\n",
       " 'F',\n",
       " 'FBM',\n",
       " 'F_90',\n",
       " 'Fr',\n",
       " 'G',\n",
       " 'G_0',\n",
       " 'Gal',\n",
       " 'Gb',\n",
       " 'Group',\n",
       " 'Gy',\n",
       " 'H',\n",
       " 'H2O',\n",
       " 'H_90',\n",
       " 'Hg',\n",
       " 'Hg_0C',\n",
       " 'Hg_32F',\n",
       " 'Hg_60F',\n",
       " 'Hz',\n",
       " 'J',\n",
       " 'K',\n",
       " 'KPH',\n",
       " 'K_J',\n",
       " 'K_J90',\n",
       " 'K_alpha_Cu_d_220',\n",
       " 'K_alpha_Mo_d_220',\n",
       " 'K_alpha_W_d_220',\n",
       " 'L',\n",
       " 'Ly',\n",
       " 'M',\n",
       " 'MPH',\n",
       " 'Measurement',\n",
       " 'Mx',\n",
       " 'N',\n",
       " 'N_A',\n",
       " 'Ne',\n",
       " 'NeC',\n",
       " 'Nm',\n",
       " 'Np',\n",
       " 'Oe',\n",
       " 'P',\n",
       " 'PPCM',\n",
       " 'PPI',\n",
       " 'PSH',\n",
       " 'Pa',\n",
       " 'Phi_0',\n",
       " 'Quantity',\n",
       " 'R',\n",
       " 'RIU',\n",
       " 'RKM',\n",
       " 'R_K',\n",
       " 'R_K90',\n",
       " 'R_inf',\n",
       " 'R_∞',\n",
       " 'Rd',\n",
       " 'Ry',\n",
       " 'S',\n",
       " 'SPL',\n",
       " 'St',\n",
       " 'Sv',\n",
       " 'System',\n",
       " 'T',\n",
       " 'Ta',\n",
       " 'Td',\n",
       " 'Tj',\n",
       " 'Tt',\n",
       " 'U',\n",
       " 'UK_bbl',\n",
       " 'UK_bushel',\n",
       " 'UK_cup',\n",
       " 'UK_cwt',\n",
       " 'UK_fluid_ounce',\n",
       " 'UK_force_ton',\n",
       " 'UK_gallon',\n",
       " 'UK_gill',\n",
       " 'UK_horsepower',\n",
       " 'UK_hundredweight',\n",
       " 'UK_pint',\n",
       " 'UK_pk',\n",
       " 'UK_quart',\n",
       " 'UK_ton',\n",
       " 'UK_ton_force',\n",
       " 'US_cwt',\n",
       " 'US_dry_barrel',\n",
       " 'US_dry_gallon',\n",
       " 'US_dry_pint',\n",
       " 'US_dry_quart',\n",
       " 'US_fluid_dram',\n",
       " 'US_fluid_ounce',\n",
       " 'US_force_ton',\n",
       " 'US_hundredweight',\n",
       " 'US_international_ampere',\n",
       " 'US_international_ohm',\n",
       " 'US_international_volt',\n",
       " 'US_liquid_cup',\n",
       " 'US_liquid_dram',\n",
       " 'US_liquid_fifth',\n",
       " 'US_liquid_gallon',\n",
       " 'US_liquid_gill',\n",
       " 'US_liquid_ounce',\n",
       " 'US_liquid_quart',\n",
       " 'US_pint',\n",
       " 'US_shot',\n",
       " 'US_therm',\n",
       " 'US_ton',\n",
       " 'US_ton_force',\n",
       " 'Unit',\n",
       " 'UnitsContainer',\n",
       " 'V',\n",
       " 'VA',\n",
       " 'V_90',\n",
       " 'V_US',\n",
       " 'V_it',\n",
       " 'W',\n",
       " 'W_90',\n",
       " 'Wb',\n",
       " 'Wh',\n",
       " 'Xu_Cu',\n",
       " 'Xu_Mo',\n",
       " 'Z_0',\n",
       " '__annotations__',\n",
       " '__call__',\n",
       " '__class__',\n",
       " '__class_getitem__',\n",
       " '__contains__',\n",
       " '__deepcopy__',\n",
       " '__delattr__',\n",
       " '__dict__',\n",
       " '__dir__',\n",
       " '__doc__',\n",
       " '__eq__',\n",
       " '__firstlineno__',\n",
       " '__format__',\n",
       " '__ge__',\n",
       " '__getattr__',\n",
       " '__getattribute__',\n",
       " '__getitem__',\n",
       " '__getstate__',\n",
       " '__gt__',\n",
       " '__hash__',\n",
       " '__init__',\n",
       " '__init_subclass__',\n",
       " '__iter__',\n",
       " '__le__',\n",
       " '__lt__',\n",
       " '__module__',\n",
       " '__ne__',\n",
       " '__new__',\n",
       " '__orig_bases__',\n",
       " '__parameters__',\n",
       " '__reduce__',\n",
       " '__reduce_ex__',\n",
       " '__repr__',\n",
       " '__setattr__',\n",
       " '__sizeof__',\n",
       " '__static_attributes__',\n",
       " '__str__',\n",
       " '__subclasshook__',\n",
       " '__weakref__',\n",
       " '_active_ctx',\n",
       " '_add_alias',\n",
       " '_add_defaults',\n",
       " '_add_derived_dimension',\n",
       " '_add_dimension',\n",
       " '_add_group',\n",
       " '_add_prefix',\n",
       " '_add_ref_of_log_or_offset_unit',\n",
       " '_add_system',\n",
       " '_add_unit',\n",
       " '_adders',\n",
       " '_after_init',\n",
       " '_base_units',\n",
       " '_base_units_cache',\n",
       " '_build_cache',\n",
       " '_cache',\n",
       " '_caches',\n",
       " '_context_units',\n",
       " '_contexts',\n",
       " '_convert',\n",
       " '_dedup_candidates',\n",
       " '_def_parser',\n",
       " '_default_system_name',\n",
       " '_defaults',\n",
       " '_dimensions',\n",
       " '_diskcache',\n",
       " '_eval_token',\n",
       " '_filename',\n",
       " '_get_base_units',\n",
       " '_get_compatible_units',\n",
       " '_get_conversion_factor',\n",
       " '_get_dimensionality',\n",
       " '_get_dimensionality_ratio',\n",
       " '_get_dimensionality_recurse',\n",
       " '_get_root_units',\n",
       " '_get_root_units_recurse',\n",
       " '_get_symbol',\n",
       " '_groups',\n",
       " '_helper_adder',\n",
       " '_helper_dispatch_adder',\n",
       " '_helper_single_adder',\n",
       " '_init_dynamic_classes',\n",
       " '_initialized',\n",
       " '_is_multiplicative',\n",
       " '_non_int_type',\n",
       " '_on_redefinition',\n",
       " '_parse_unit_name',\n",
       " '_parse_units_as_container',\n",
       " '_prefixes',\n",
       " '_redefine',\n",
       " '_register_adder',\n",
       " '_register_definition_adders',\n",
       " '_suffixes',\n",
       " '_switch_context_cache_and_units',\n",
       " '_systems',\n",
       " '_units',\n",
       " '_units_casei',\n",
       " '_validate_and_extract',\n",
       " '_yield_unit_triplets',\n",
       " 'a',\n",
       " 'a0',\n",
       " 'a_0',\n",
       " 'a_u_action',\n",
       " 'a_u_current',\n",
       " 'a_u_electric_field',\n",
       " 'a_u_energy',\n",
       " 'a_u_force',\n",
       " 'a_u_intensity',\n",
       " 'a_u_length',\n",
       " 'a_u_mass',\n",
       " 'a_u_temp',\n",
       " 'a_u_time',\n",
       " 'abA',\n",
       " 'abC',\n",
       " 'abF',\n",
       " 'abH',\n",
       " 'abS',\n",
       " 'abV',\n",
       " 'abampere',\n",
       " 'abcoulomb',\n",
       " 'aberdeen',\n",
       " 'abfarad',\n",
       " 'abhenry',\n",
       " 'abmho',\n",
       " 'abohm',\n",
       " 'absiemens',\n",
       " 'abvolt',\n",
       " 'abΩ',\n",
       " 'acre',\n",
       " 'acre_feet',\n",
       " 'acre_foot',\n",
       " 'add_context',\n",
       " 'alpha',\n",
       " 'amp',\n",
       " 'ampere',\n",
       " 'ampere_hour',\n",
       " 'ampere_turn',\n",
       " 'amu',\n",
       " 'angstrom',\n",
       " 'angstrom_star',\n",
       " 'angular_degree',\n",
       " 'angular_minute',\n",
       " 'angular_second',\n",
       " 'ap_dr',\n",
       " 'ap_lb',\n",
       " 'ap_oz',\n",
       " 'apothecary_dram',\n",
       " 'apothecary_ounce',\n",
       " 'apothecary_pound',\n",
       " 'arc_minute',\n",
       " 'arc_second',\n",
       " 'arcdeg',\n",
       " 'arcdegree',\n",
       " 'arcmin',\n",
       " 'arcminute',\n",
       " 'arcsec',\n",
       " 'arcsecond',\n",
       " 'are',\n",
       " 'astronomical_unit',\n",
       " 'at',\n",
       " 'atm',\n",
       " 'atm_l',\n",
       " 'atmosphere',\n",
       " 'atmosphere_liter',\n",
       " 'atomic_mass_constant',\n",
       " 'atomic_unit_of_action',\n",
       " 'atomic_unit_of_current',\n",
       " 'atomic_unit_of_electric_field',\n",
       " 'atomic_unit_of_energy',\n",
       " 'atomic_unit_of_force',\n",
       " 'atomic_unit_of_intensity',\n",
       " 'atomic_unit_of_length',\n",
       " 'atomic_unit_of_mass',\n",
       " 'atomic_unit_of_temperature',\n",
       " 'atomic_unit_of_time',\n",
       " 'au',\n",
       " 'auto_reduce_dimensions',\n",
       " 'autoconvert_offset_to_baseunit',\n",
       " 'autoconvert_to_preferred',\n",
       " 'avdp_dram',\n",
       " 'avdp_ounce',\n",
       " 'avdp_pound',\n",
       " 'avogadro_constant',\n",
       " 'avogadro_number',\n",
       " 'avoirdupois_dram',\n",
       " 'avoirdupois_ounce',\n",
       " 'avoirdupois_pound',\n",
       " 'b',\n",
       " 'bag',\n",
       " 'bar',\n",
       " 'barad',\n",
       " 'barie',\n",
       " 'barn',\n",
       " 'barrel',\n",
       " 'barrie',\n",
       " 'baryd',\n",
       " 'barye',\n",
       " 'baud',\n",
       " 'bbl',\n",
       " 'becquerel',\n",
       " 'beer_barrel',\n",
       " 'beer_bbl',\n",
       " 'big_point',\n",
       " 'biot',\n",
       " 'biot_turn',\n",
       " 'bit',\n",
       " 'bits_per_pixel',\n",
       " 'blob',\n",
       " 'board_feet',\n",
       " 'board_foot',\n",
       " 'bohr',\n",
       " 'bohr_magneton',\n",
       " 'bohr_radius',\n",
       " 'boiler_horsepower',\n",
       " 'boltzmann_constant',\n",
       " 'bp',\n",
       " 'bpp',\n",
       " 'bps',\n",
       " 'british_thermal_unit',\n",
       " 'bu',\n",
       " 'buckingham',\n",
       " 'bushel',\n",
       " 'byte',\n",
       " 'c',\n",
       " 'c_0',\n",
       " 'c_1',\n",
       " 'c_2',\n",
       " 'cables_length',\n",
       " 'cache_folder',\n",
       " 'cal',\n",
       " 'cal_15',\n",
       " 'cal_it',\n",
       " 'cal_th',\n",
       " 'calorie',\n",
       " 'candela',\n",
       " 'candle',\n",
       " 'carat',\n",
       " 'case_sensitive',\n",
       " 'cc',\n",
       " 'cd',\n",
       " 'celsius',\n",
       " 'centimeter',\n",
       " 'centimeter_H2O',\n",
       " 'centimeter_Hg',\n",
       " 'centimeter_Hg_0C',\n",
       " 'centipoise',\n",
       " 'centuries',\n",
       " 'century',\n",
       " 'chain',\n",
       " 'characteristic_impedance_of_vacuum',\n",
       " 'check',\n",
       " 'cicero',\n",
       " 'circle',\n",
       " 'circular_mil',\n",
       " 'classical_electron_radius',\n",
       " 'clausius',\n",
       " 'cmH2O',\n",
       " 'cmHg',\n",
       " 'cm_1',\n",
       " 'cm_H2O',\n",
       " 'cm_Hg',\n",
       " 'cmil',\n",
       " 'common_year',\n",
       " 'conductance_quantum',\n",
       " 'context',\n",
       " 'conventional_ampere_90',\n",
       " 'conventional_coulomb_90',\n",
       " 'conventional_farad_90',\n",
       " 'conventional_henry_90',\n",
       " 'conventional_josephson_constant',\n",
       " 'conventional_mercury',\n",
       " 'conventional_ohm_90',\n",
       " 'conventional_volt_90',\n",
       " 'conventional_von_klitzing_constant',\n",
       " 'conventional_water',\n",
       " 'conventional_watt_90',\n",
       " 'convert',\n",
       " 'cooling_tower_ton',\n",
       " 'coulomb',\n",
       " 'coulomb_constant',\n",
       " 'count',\n",
       " 'counts_per_second',\n",
       " 'cp',\n",
       " 'cps',\n",
       " 'css_pixel',\n",
       " 'ct',\n",
       " 'cu_ft',\n",
       " 'cu_in',\n",
       " 'cu_yd',\n",
       " 'cubic_centimeter',\n",
       " 'cubic_feet',\n",
       " 'cubic_foot',\n",
       " 'cubic_inch',\n",
       " 'cubic_yard',\n",
       " 'cup',\n",
       " 'curie',\n",
       " 'cwt',\n",
       " 'cycle',\n",
       " 'd',\n",
       " 'dB',\n",
       " 'dBW',\n",
       " 'dBm',\n",
       " 'dBu',\n",
       " 'd_220',\n",
       " 'dalton',\n",
       " 'darcy',\n",
       " 'day',\n",
       " 'debye',\n",
       " 'decade',\n",
       " 'decibel',\n",
       " 'decibelmicrowatt',\n",
       " 'decibelmilliwatt',\n",
       " 'decibelwatt',\n",
       " 'decimeter',\n",
       " 'decitex',\n",
       " 'default_as_delta',\n",
       " 'default_format',\n",
       " 'default_system',\n",
       " 'define',\n",
       " 'deg',\n",
       " 'degC',\n",
       " 'degF',\n",
       " 'degK',\n",
       " 'degR',\n",
       " 'degRe',\n",
       " 'degree',\n",
       " 'degreeC',\n",
       " 'degreeF',\n",
       " 'degreeK',\n",
       " 'degreeR',\n",
       " 'degreeRe',\n",
       " 'degree_Celsius',\n",
       " 'degree_Fahrenheit',\n",
       " 'degree_Kelvin',\n",
       " 'degree_Rankine',\n",
       " 'degree_Reaumur',\n",
       " 'degree_Réaumur',\n",
       " 'delta_celsius',\n",
       " 'delta_degC',\n",
       " 'delta_degF',\n",
       " 'delta_degRe',\n",
       " 'delta_degreeC',\n",
       " 'delta_degreeF',\n",
       " 'delta_degreeRe',\n",
       " 'delta_degree_Celsius',\n",
       " 'delta_degree_Fahrenheit',\n",
       " 'delta_degree_Reaumur',\n",
       " 'delta_degree_Réaumur',\n",
       " 'delta_fahrenheit',\n",
       " 'delta_reaumur',\n",
       " 'delta_réaumur',\n",
       " 'den',\n",
       " 'denier',\n",
       " 'dgal',\n",
       " 'didot',\n",
       " 'dirac_constant',\n",
       " 'disable_contexts',\n",
       " 'dot',\n",
       " 'dots_per_inch',\n",
       " 'dpi',\n",
       " 'dqt',\n",
       " 'dr',\n",
       " 'drachm',\n",
       " 'dram',\n",
       " 'dry_barrel',\n",
       " 'dry_gallon',\n",
       " 'dry_pint',\n",
       " 'dry_quart',\n",
       " 'dtex',\n",
       " 'dwt',\n",
       " 'dyn',\n",
       " 'dyne',\n",
       " 'e',\n",
       " 'eV',\n",
       " 'electric_constant',\n",
       " 'electrical_horsepower',\n",
       " 'electron_g_factor',\n",
       " 'electron_mass',\n",
       " 'electron_volt',\n",
       " 'elementary_charge',\n",
       " 'enable_contexts',\n",
       " 'entropy_unit',\n",
       " 'enzyme_unit',\n",
       " 'enzymeunit',\n",
       " 'eon',\n",
       " 'eps0',\n",
       " 'eps_0',\n",
       " 'epsilon_0',\n",
       " 'erg',\n",
       " 'esu',\n",
       " 'eu',\n",
       " 'eulers_number',\n",
       " 'fahrenheit',\n",
       " 'farad',\n",
       " 'faraday',\n",
       " 'faraday_constant',\n",
       " 'fathom',\n",
       " 'feet',\n",
       " 'feet_H2O',\n",
       " 'femtometer',\n",
       " 'fermi',\n",
       " 'fifteen_degree_calorie',\n",
       " 'fifth',\n",
       " 'fine_structure_constant',\n",
       " 'first_radiation_constant',\n",
       " 'fldr',\n",
       " 'floz',\n",
       " 'fluid_dram',\n",
       " 'fluid_ounce',\n",
       " 'fluidram',\n",
       " 'fm',\n",
       " 'fmt_locale',\n",
       " 'foot',\n",
       " 'foot_H2O',\n",
       " 'foot_per_second',\n",
       " 'foot_pound',\n",
       " 'footpound',\n",
       " 'force_gram',\n",
       " 'force_kilogram',\n",
       " 'force_long_ton',\n",
       " 'force_metric_ton',\n",
       " 'force_ndarray',\n",
       " 'force_ndarray_like',\n",
       " 'force_ounce',\n",
       " 'force_pound',\n",
       " 'force_short_ton',\n",
       " 'force_t',\n",
       " 'force_ton',\n",
       " 'formatter',\n",
       " 'fortnight',\n",
       " 'fps',\n",
       " 'franklin',\n",
       " 'ft',\n",
       " 'ftH2O',\n",
       " 'ft_lb',\n",
       " 'fur',\n",
       " 'furlong',\n",
       " 'g',\n",
       " 'g0',\n",
       " 'g_0',\n",
       " 'g_e',\n",
       " 'g_n',\n",
       " 'gal',\n",
       " 'galileo',\n",
       " 'gallon',\n",
       " 'gamma',\n",
       " 'gamma_mass',\n",
       " 'gauss',\n",
       " 'get_base_units',\n",
       " 'get_compatible_units',\n",
       " 'get_dimensionality',\n",
       " 'get_group',\n",
       " 'get_name',\n",
       " 'get_root_units',\n",
       " 'get_symbol',\n",
       " 'get_system',\n",
       " 'gf',\n",
       " 'gi',\n",
       " 'gilbert',\n",
       " 'gill',\n",
       " 'gon',\n",
       " 'gr',\n",
       " 'grad',\n",
       " 'grade',\n",
       " 'grain',\n",
       " 'gram',\n",
       " 'gram_force',\n",
       " 'gravitational_constant',\n",
       " 'gravity',\n",
       " 'gray',\n",
       " 'gregorian_year',\n",
       " 'h',\n",
       " 'ha',\n",
       " 'hand',\n",
       " 'hartree',\n",
       " 'hartree_energy',\n",
       " 'hbar',\n",
       " 'hectare',\n",
       " 'henry',\n",
       " 'hertz',\n",
       " 'hogshead',\n",
       " 'horsepower',\n",
       " 'hour',\n",
       " 'hp',\n",
       " 'hr',\n",
       " 'hundredweight',\n",
       " 'hydraulic_horsepower',\n",
       " 'impedance_of_free_space',\n",
       " 'imperial_barrel',\n",
       " 'imperial_bbl',\n",
       " 'imperial_bu',\n",
       " 'imperial_bushel',\n",
       " 'imperial_cp',\n",
       " 'imperial_cup',\n",
       " 'imperial_fldr',\n",
       " 'imperial_floz',\n",
       " 'imperial_fluid_drachm',\n",
       " 'imperial_fluid_dram',\n",
       " 'imperial_fluid_ounce',\n",
       " 'imperial_fluid_scruple',\n",
       " 'imperial_gal',\n",
       " 'imperial_gallon',\n",
       " 'imperial_gi',\n",
       " 'imperial_gill',\n",
       " 'imperial_minim',\n",
       " 'imperial_peck',\n",
       " 'imperial_pint',\n",
       " 'imperial_pk',\n",
       " 'imperial_pt',\n",
       " 'imperial_qt',\n",
       " 'imperial_quart',\n",
       " 'in',\n",
       " 'inHg',\n",
       " 'in_Hg',\n",
       " 'inch',\n",
       " 'inch_H2O_39F',\n",
       " 'inch_H2O_60F',\n",
       " 'inch_Hg',\n",
       " 'inch_Hg_32F',\n",
       " 'inch_Hg_60F',\n",
       " 'inches',\n",
       " 'international_british_thermal_unit',\n",
       " 'international_calorie',\n",
       " 'international_feet',\n",
       " 'international_foot',\n",
       " 'international_inch',\n",
       " 'international_inches',\n",
       " 'international_knot',\n",
       " 'international_mile',\n",
       " 'international_steam_table_calorie',\n",
       " 'international_yard',\n",
       " 'is_compatible_with',\n",
       " 'jig',\n",
       " 'josephson_constant',\n",
       " 'joule',\n",
       " 'julian_year',\n",
       " 'jute',\n",
       " 'k',\n",
       " 'k_B',\n",
       " 'k_C',\n",
       " 'karat',\n",
       " 'kat',\n",
       " 'katal',\n",
       " 'kayser',\n",
       " 'kelvin',\n",
       " 'kgf',\n",
       " 'kilogram',\n",
       " 'kilogram_force',\n",
       " 'kilometer',\n",
       " 'kilometer_per_hour',\n",
       " 'kilometer_per_second',\n",
       " 'kip',\n",
       " 'kip_per_square_inch',\n",
       " 'knot',\n",
       " 'knot_international',\n",
       " 'kph',\n",
       " 'kps',\n",
       " 'ksi',\n",
       " 'kt',\n",
       " 'l',\n",
       " 'lambda',\n",
       " 'lambert',\n",
       " 'langley',\n",
       " 'lattice_spacing_of_Si',\n",
       " 'lb',\n",
       " 'lbf',\n",
       " 'lbt',\n",
       " 'league',\n",
       " 'leap_year',\n",
       " 'li',\n",
       " 'light_year',\n",
       " 'lightyear',\n",
       " 'link',\n",
       " 'liquid_cup',\n",
       " 'liquid_gallon',\n",
       " 'liquid_gill',\n",
       " 'liquid_pint',\n",
       " 'liquid_quart',\n",
       " 'liter',\n",
       " 'litre',\n",
       " 'lm',\n",
       " 'ln10',\n",
       " 'load_definitions',\n",
       " 'long_hundredweight',\n",
       " 'long_ton',\n",
       " 'long_ton_force',\n",
       " 'lumen',\n",
       " 'lunar_month',\n",
       " 'lux',\n",
       " 'lx',\n",
       " 'ly',\n",
       " 'm',\n",
       " 'm_e',\n",
       " 'm_n',\n",
       " 'm_p',\n",
       " 'm_u',\n",
       " 'magnetic_constant',\n",
       " 'magnetic_flux_quantum',\n",
       " 'mas',\n",
       " 'maxwell',\n",
       " 'mean_international_ampere',\n",
       " 'mean_international_ohm',\n",
       " 'mean_international_volt',\n",
       " 'mercury',\n",
       " 'mercury_60F',\n",
       " 'meter',\n",
       " 'meter_per_second',\n",
       " 'metre',\n",
       " 'metric_horsepower',\n",
       " 'metric_ton',\n",
       " 'metric_ton_force',\n",
       " 'mho',\n",
       " 'mi',\n",
       " 'microgram',\n",
       " 'microliter',\n",
       " 'micrometer',\n",
       " 'micromole',\n",
       " 'micron',\n",
       " 'mil',\n",
       " 'mil_length',\n",
       " 'mile',\n",
       " 'mile_per_hour',\n",
       " 'millennia',\n",
       " 'millennium',\n",
       " 'milliarcsecond',\n",
       " 'milligram',\n",
       " 'millimeter',\n",
       " 'millimeter_Hg',\n",
       " 'millimeter_Hg_0C',\n",
       " 'min',\n",
       " 'minim',\n",
       " 'minute',\n",
       " 'mmHg',\n",
       " 'mm_Hg',\n",
       " 'mol',\n",
       " 'molar',\n",
       " 'molar_gas_constant',\n",
       " 'mole',\n",
       " 'molec',\n",
       " 'molecule',\n",
       " 'month',\n",
       " 'mph',\n",
       " 'mpl_formatter',\n",
       " 'mps',\n",
       " 'mu0',\n",
       " 'mu_0',\n",
       " 'mu_B',\n",
       " 'mu_N',\n",
       " 'nautical_mile',\n",
       " 'neper',\n",
       " 'neutron_mass',\n",
       " 'newton',\n",
       " 'newtonian_constant_of_gravitation',\n",
       " 'nit',\n",
       " 'nmi',\n",
       " 'non_int_type',\n",
       " 'nuclear_magneton',\n",
       " 'number_english',\n",
       " 'number_meter',\n",
       " 'oct',\n",
       " 'octave',\n",
       " 'octet',\n",
       " 'oersted',\n",
       " 'ohm',\n",
       " 'ohm_90',\n",
       " 'ohm_US',\n",
       " 'ohm_it',\n",
       " 'oil_barrel',\n",
       " 'oil_bbl',\n",
       " 'ounce',\n",
       " 'ounce_force',\n",
       " 'oz',\n",
       " 'ozf',\n",
       " 'ozt',\n",
       " 'parse_expression',\n",
       " 'parse_pattern',\n",
       " 'parse_unit_name',\n",
       " 'parse_units',\n",
       " 'parse_units_as_container',\n",
       " 'parsec',\n",
       " 'particle',\n",
       " 'pascal',\n",
       " 'pc',\n",
       " 'pdl',\n",
       " 'peak_sun_hour',\n",
       " 'peck',\n",
       " 'pel',\n",
       " 'pennyweight',\n",
       " 'percent',\n",
       " 'perch',\n",
       " 'permille',\n",
       " 'pi',\n",
       " 'pi_theorem',\n",
       " 'pica',\n",
       " 'picture_element',\n",
       " 'pint',\n",
       " 'pixel',\n",
       " 'pixels_per_centimeter',\n",
       " 'pixels_per_inch',\n",
       " 'pk',\n",
       " 'planck_constant',\n",
       " 'planck_current',\n",
       " 'planck_length',\n",
       " 'planck_mass',\n",
       " 'planck_temperature',\n",
       " 'planck_time',\n",
       " 'point',\n",
       " 'poise',\n",
       " 'pole',\n",
       " 'pond',\n",
       " 'pound',\n",
       " 'pound_force',\n",
       " 'pound_force_per_square_inch',\n",
       " 'poundal',\n",
       " 'pp',\n",
       " 'ppi',\n",
       " 'ppm',\n",
       " 'preprocessors',\n",
       " 'printers_dpi',\n",
       " 'printers_pica',\n",
       " 'printers_point',\n",
       " 'proton_mass',\n",
       " 'psi',\n",
       " 'pt',\n",
       " 'px',\n",
       " 'qt',\n",
       " 'quad',\n",
       " 'quadrillion_Btu',\n",
       " 'quart',\n",
       " 'quarter',\n",
       " 'r_e',\n",
       " 'rad',\n",
       " 'radian',\n",
       " 'rads',\n",
       " 'rankine',\n",
       " 'rd',\n",
       " 'reaumur',\n",
       " 'reciprocal_centimeter',\n",
       " 'refractive_index_unit',\n",
       " 'refrigeration_ton',\n",
       " 'rem',\n",
       " 'remove_context',\n",
       " 'revolution',\n",
       " 'revolutions_per_minute',\n",
       " 'revolutions_per_second',\n",
       " 'reyn',\n",
       " 'rhe',\n",
       " 'rod',\n",
       " 'roentgen',\n",
       " 'rpm',\n",
       " 'rps',\n",
       " 'rutherford',\n",
       " 'rydberg',\n",
       " 'rydberg_constant',\n",
       " 'réaumur',\n",
       " 'röntgen',\n",
       " 's',\n",
       " 'scaled_point',\n",
       " 'scruple',\n",
       " 'sec',\n",
       " 'second',\n",
       " 'second_radiation_constant',\n",
       " 'section',\n",
       " 'separate_format_defaults',\n",
       " 'set_fmt_locale',\n",
       " 'setup_matplotlib',\n",
       " 'sft',\n",
       " 'shake',\n",
       " 'short_hundredweight',\n",
       " 'short_ton',\n",
       " 'short_ton_force',\n",
       " 'shot',\n",
       " 'sidereal_day',\n",
       " 'sidereal_month',\n",
       " 'sidereal_year',\n",
       " 'siemens',\n",
       " 'sievert',\n",
       " 'sigma',\n",
       " 'sigma_e',\n",
       " 'slinch',\n",
       " 'slm',\n",
       " 'slpm',\n",
       " 'slug',\n",
       " 'slugette',\n",
       " 'smi',\n",
       " 'sound_pressure_level',\n",
       " 'speed_of_light',\n",
       " 'sq_deg',\n",
       " 'sq_ft',\n",
       " 'sq_in',\n",
       " 'sq_mi',\n",
       " 'sq_perch',\n",
       " 'sq_pole',\n",
       " 'sq_rod',\n",
       " 'sq_yd',\n",
       " 'sqdeg',\n",
       " 'square_degree',\n",
       " 'square_feet',\n",
       " 'square_foot',\n",
       " 'square_inch',\n",
       " 'square_inches',\n",
       " 'square_league',\n",
       " 'square_mile',\n",
       " 'square_rod',\n",
       " 'square_survey_mile',\n",
       " 'square_yard',\n",
       " 'sr',\n",
       " 'standard_atmosphere',\n",
       " 'standard_gravity',\n",
       " 'standard_liter_per_minute',\n",
       " 'statA',\n",
       " 'statC',\n",
       " 'statF',\n",
       " 'statH',\n",
       " 'statT',\n",
       " 'statV',\n",
       " 'statWb',\n",
       " 'statampere',\n",
       " 'statcoulomb',\n",
       " 'statfarad',\n",
       " 'stathenry',\n",
       " 'statmho',\n",
       " 'statohm',\n",
       " 'stattesla',\n",
       " 'statvolt',\n",
       " 'statweber',\n",
       " 'statΩ',\n",
       " 'stefan_boltzmann_constant',\n",
       " 'steradian',\n",
       " 'stere',\n",
       " 'stilb',\n",
       " 'stokes',\n",
       " 'stone',\n",
       " 'super_feet',\n",
       " 'super_foot',\n",
       " 'superficial_feet',\n",
       " 'superficial_foot',\n",
       " 'survey_foot',\n",
       " 'survey_link',\n",
       " 'survey_mile',\n",
       " 'sv',\n",
       " 'svedberg',\n",
       " 'sverdrup',\n",
       " 'synodic_month',\n",
       " 'sys',\n",
       " 't',\n",
       " 'tTNT',\n",
       " 't_force',\n",
       " 'tablespoon',\n",
       " 'tansec',\n",
       " 'tbsp',\n",
       " ...]"
      ]
     },
     "execution_count": 19,
     "metadata": {},
     "output_type": "execute_result"
    }
   ],
   "source": [
    "dir(units)"
   ]
  },
  {
   "cell_type": "markdown",
   "id": "everyday-location",
   "metadata": {},
   "source": [
    "We can use `meter` and `second` to create a variable named `a` and give it the value of acceleration due to gravity. "
   ]
  },
  {
   "cell_type": "code",
   "execution_count": 20,
   "id": "earlier-bandwidth",
   "metadata": {},
   "outputs": [
    {
     "data": {
      "text/html": [
       "9.8 meter/second<sup>2</sup>"
      ],
      "text/latex": [
       "$9.8\\ \\frac{\\mathrm{meter}}{\\mathrm{second}^{2}}$"
      ],
      "text/plain": [
       "<Quantity(9.8, 'meter / second ** 2')>"
      ]
     },
     "execution_count": 20,
     "metadata": {},
     "output_type": "execute_result"
    }
   ],
   "source": [
    "a = 9.8 * meter / second**2\n",
    "a"
   ]
  },
  {
   "cell_type": "markdown",
   "id": "generic-bowling",
   "metadata": {},
   "source": [
    "The result is a *quantity* with two parts, called `magnitude` and `units`, which we can access like this:"
   ]
  },
  {
   "cell_type": "code",
   "execution_count": 21,
   "id": "missing-privilege",
   "metadata": {},
   "outputs": [
    {
     "data": {
      "text/plain": [
       "9.8"
      ]
     },
     "execution_count": 21,
     "metadata": {},
     "output_type": "execute_result"
    }
   ],
   "source": [
    "a.magnitude"
   ]
  },
  {
   "cell_type": "code",
   "execution_count": 22,
   "id": "fourth-swedish",
   "metadata": {},
   "outputs": [
    {
     "data": {
      "text/html": [
       "meter/second<sup>2</sup>"
      ],
      "text/latex": [
       "$\\frac{\\mathrm{meter}}{\\mathrm{second}^{2}}$"
      ],
      "text/plain": [
       "<Unit('meter / second ** 2')>"
      ]
     },
     "execution_count": 22,
     "metadata": {},
     "output_type": "execute_result"
    }
   ],
   "source": [
    "a.units"
   ]
  },
  {
   "cell_type": "markdown",
   "id": "realistic-techno",
   "metadata": {},
   "source": [
    "We can also create a quantity that represents $3.4$ s."
   ]
  },
  {
   "cell_type": "code",
   "execution_count": 23,
   "id": "apart-france",
   "metadata": {},
   "outputs": [
    {
     "data": {
      "text/html": [
       "3.4 second"
      ],
      "text/latex": [
       "$3.4\\ \\mathrm{second}$"
      ],
      "text/plain": [
       "<Quantity(3.4, 'second')>"
      ]
     },
     "execution_count": 23,
     "metadata": {},
     "output_type": "execute_result"
    }
   ],
   "source": [
    "t = 3.4 * second\n",
    "t"
   ]
  },
  {
   "cell_type": "markdown",
   "id": "severe-share",
   "metadata": {},
   "source": [
    "And use it to compute the distance a penny would fall after `t` seconds with constant acceleration `a`.  "
   ]
  },
  {
   "cell_type": "code",
   "execution_count": 24,
   "id": "alien-scout",
   "metadata": {},
   "outputs": [
    {
     "data": {
      "text/html": [
       "56.644 meter"
      ],
      "text/latex": [
       "$56.644\\ \\mathrm{meter}$"
      ],
      "text/plain": [
       "<Quantity(56.644, 'meter')>"
      ]
     },
     "execution_count": 24,
     "metadata": {},
     "output_type": "execute_result"
    }
   ],
   "source": [
    "a * t**2 / 2"
   ]
  },
  {
   "cell_type": "markdown",
   "id": "wicked-indianapolis",
   "metadata": {},
   "source": [
    "Notice that the units of the result are correct.\n",
    "If we create a quantity to represent the height of the Empire State Building:"
   ]
  },
  {
   "cell_type": "code",
   "execution_count": 25,
   "id": "confidential-costs",
   "metadata": {},
   "outputs": [],
   "source": [
    "h = 381 * meter"
   ]
  },
  {
   "cell_type": "markdown",
   "id": "hollow-programmer",
   "metadata": {},
   "source": [
    "We can use it to compute the time the penny would take to reach the sidewalk."
   ]
  },
  {
   "cell_type": "code",
   "execution_count": 26,
   "id": "studied-opera",
   "metadata": {},
   "outputs": [
    {
     "data": {
      "text/html": [
       "8.817885349720552 second"
      ],
      "text/latex": [
       "$8.817885349720552\\ \\mathrm{second}$"
      ],
      "text/plain": [
       "<Quantity(8.81788535, 'second')>"
      ]
     },
     "execution_count": 26,
     "metadata": {},
     "output_type": "execute_result"
    }
   ],
   "source": [
    "t = sqrt(2 * h / a)\n",
    "t"
   ]
  },
  {
   "cell_type": "markdown",
   "id": "seasonal-laser",
   "metadata": {},
   "source": [
    "And the velocity of the penny on impact:"
   ]
  },
  {
   "cell_type": "code",
   "execution_count": 27,
   "id": "exterior-greek",
   "metadata": {},
   "outputs": [
    {
     "data": {
      "text/html": [
       "86.41527642726142 meter/second"
      ],
      "text/latex": [
       "$86.41527642726142\\ \\frac{\\mathrm{meter}}{\\mathrm{second}}$"
      ],
      "text/plain": [
       "<Quantity(86.4152764, 'meter / second')>"
      ]
     },
     "execution_count": 27,
     "metadata": {},
     "output_type": "execute_result"
    }
   ],
   "source": [
    "v = a * t\n",
    "v"
   ]
  },
  {
   "cell_type": "code",
   "execution_count": 28,
   "id": "impaired-puzzle",
   "metadata": {
    "tags": []
   },
   "outputs": [],
   "source": [
    "assert abs(v.magnitude - 86.41527642726142) < 1e-7"
   ]
  },
  {
   "cell_type": "markdown",
   "id": "superior-biography",
   "metadata": {},
   "source": [
    "As in the previous section, the result is about $86$, but now it has the correct units, m/s.\n",
    "\n",
    "With Pint quantities, we can convert from one set of units to another like this:"
   ]
  },
  {
   "cell_type": "code",
   "execution_count": 29,
   "id": "antique-landing",
   "metadata": {},
   "outputs": [],
   "source": [
    "mile = units.mile\n",
    "hour = units.hour"
   ]
  },
  {
   "cell_type": "code",
   "execution_count": 30,
   "id": "included-failure",
   "metadata": {},
   "outputs": [
    {
     "data": {
      "text/html": [
       "193.30546802805432 mile/hour"
      ],
      "text/latex": [
       "$193.30546802805432\\ \\frac{\\mathrm{mile}}{\\mathrm{hour}}$"
      ],
      "text/plain": [
       "<Quantity(193.305468, 'mile / hour')>"
      ]
     },
     "execution_count": 30,
     "metadata": {},
     "output_type": "execute_result"
    }
   ],
   "source": [
    "v.to(mile/hour)"
   ]
  },
  {
   "cell_type": "markdown",
   "id": "progressive-charleston",
   "metadata": {},
   "source": [
    "If you are more familiar with miles per hour, this result might be easier to interpret.\n",
    "And it might give you a sense that this model is not realistic."
   ]
  },
  {
   "cell_type": "markdown",
   "id": "continuing-democrat",
   "metadata": {},
   "source": [
    "## Summary\n",
    "\n",
    "This chapter introduces a modeling framework that consists of three steps:\n",
    "\n",
    "* Abstraction is the process of defining a model by deciding which elements of the real world to include and which can be left out.\n",
    "\n",
    "* Analysis and simulation are ways to use a model to generate predictions, explain why things behave as they do, and design things that behave as we want.\n",
    "\n",
    "* Validation is how we test whether the model is right, often by comparing predictions with measurements from the real world.\n",
    "\n",
    "As a first example, we modeled a penny dropped from the Empire State building, including gravity but ignoring air resistance.\n",
    "In the exercises, you'll have a chance to try a better model, including air resistance.\n",
    "\n",
    "This chapter also presents Pint, a library for doing computation with units, which is convenient for converting between different units and helpful for avoiding catastrophic errors."
   ]
  },
  {
   "cell_type": "markdown",
   "id": "thousand-equation",
   "metadata": {},
   "source": [
    "## Exercises\n",
    "\n",
    "Before you go on, you might want to work on the following exercises."
   ]
  },
  {
   "cell_type": "markdown",
   "id": "periodic-objective",
   "metadata": {},
   "source": [
    "### Exercise 1\n",
    "\n",
    "In mathematical notation, we can write an equation like $v = a t$ and it's understood that we are multiplying $a$ and $t$.\n",
    "But that doesn't work in Python.  If you put two variables side-by-side, like this:\n",
    "\n",
    "```\n",
    "v = a t\n",
    "```\n",
    "\n",
    "you'll get a *syntax error*, which means that something is wrong with the structure of the program. Try it out so you see what the error message looks like."
   ]
  },
  {
   "cell_type": "code",
   "execution_count": 31,
   "id": "exempt-delight",
   "metadata": {
    "tags": []
   },
   "outputs": [
    {
     "data": {
      "text/html": [
       "33.32 meter/second"
      ],
      "text/latex": [
       "$33.32\\ \\frac{\\mathrm{meter}}{\\mathrm{second}}$"
      ],
      "text/plain": [
       "<Quantity(33.32, 'meter / second')>"
      ]
     },
     "execution_count": 31,
     "metadata": {},
     "output_type": "execute_result"
    }
   ],
   "source": [
    "a = 9.8 * meter / second**2\n",
    "t = 3.4 * second\n",
    "\n",
    "v = a * t\n",
    "v"
   ]
  },
  {
   "cell_type": "markdown",
   "id": "pressing-sugar",
   "metadata": {},
   "source": [
    "### Exercise 2\n",
    "\n",
    "In this chapter we used the `sqrt` function from the NumPy library.  NumPy also provides a variable named `pi` that contains an approximation of the mathematical constant $\\pi$.\n",
    "We can import it like this:"
   ]
  },
  {
   "cell_type": "code",
   "execution_count": 32,
   "id": "legal-observer",
   "metadata": {},
   "outputs": [
    {
     "data": {
      "text/plain": [
       "3.141592653589793"
      ]
     },
     "execution_count": 32,
     "metadata": {},
     "output_type": "execute_result"
    }
   ],
   "source": [
    "from numpy import pi\n",
    "pi"
   ]
  },
  {
   "cell_type": "markdown",
   "id": "aggregate-mambo",
   "metadata": {},
   "source": [
    "NumPy provides other functions we'll use, including `log`, `exp`, `sin`, and `cos`.\n",
    "Import `sin` and `cos` from NumPy and compute\n",
    "\n",
    "$$sin^2 (\\pi/4) + cos^2 (\\pi/4)$$\n",
    "\n",
    "Note: A mathematical identity tells us that the answer should be $1$."
   ]
  },
  {
   "cell_type": "code",
   "execution_count": 33,
   "id": "pressing-belgium",
   "metadata": {},
   "outputs": [
    {
     "name": "stdout",
     "output_type": "stream",
     "text": [
      "1.0\n"
     ]
    }
   ],
   "source": [
    "from numpy import pi, sin, cos\n",
    "answer = sin(pi/4)**2 + cos(pi/4)**2\n",
    "print(answer)\n",
    "\n"
   ]
  },
  {
   "cell_type": "markdown",
   "id": "unlimited-delivery",
   "metadata": {},
   "source": [
    "### Exercise 3\n",
    "\n",
    "Suppose you bring a 10 foot pole to the top of the Empire State Building and use it to drop the penny from `h` plus 10 feet.\n",
    "\n",
    "Define a variable named `foot` that contains the unit `foot` provided by the `UnitRegistry` we called `units`.  Define a variable named `pole_height` and give it the value 10 feet.\n",
    "\n",
    "What happens if you add `h`, which is in units of meters, to `pole_height`, which is in units of feet?  What happens if you write the addition the other way around?"
   ]
  },
  {
   "cell_type": "code",
   "execution_count": 34,
   "id": "inner-equivalent",
   "metadata": {},
   "outputs": [],
   "source": [
    "h = 381 * meter"
   ]
  },
  {
   "cell_type": "code",
   "execution_count": 35,
   "id": "nuclear-thirty",
   "metadata": {},
   "outputs": [],
   "source": [
    "foot = units.foot\n",
    "pole_height = 10 * foot"
   ]
  },
  {
   "cell_type": "code",
   "execution_count": 36,
   "id": "available-steering",
   "metadata": {},
   "outputs": [
    {
     "data": {
      "text/html": [
       "384.048 meter"
      ],
      "text/latex": [
       "$384.048\\ \\mathrm{meter}$"
      ],
      "text/plain": [
       "<Quantity(384.048, 'meter')>"
      ]
     },
     "execution_count": 36,
     "metadata": {},
     "output_type": "execute_result"
    }
   ],
   "source": [
    "h + pole_height"
   ]
  },
  {
   "cell_type": "code",
   "execution_count": 37,
   "id": "39883212",
   "metadata": {},
   "outputs": [
    {
     "data": {
      "text/html": [
       "1260.0 foot"
      ],
      "text/latex": [
       "$1260.0\\ \\mathrm{foot}$"
      ],
      "text/plain": [
       "<Quantity(1260.0, 'foot')>"
      ]
     },
     "execution_count": 37,
     "metadata": {},
     "output_type": "execute_result"
    }
   ],
   "source": [
    "pole_height + h"
   ]
  },
  {
   "cell_type": "markdown",
   "id": "aggressive-climate",
   "metadata": {},
   "source": [
    "### Exercise 4\n",
    "\n",
    "Why would it be nonsensical to add `a` and `t`? What happens if you try?"
   ]
  },
  {
   "cell_type": "code",
   "execution_count": 38,
   "id": "documentary-doctrine",
   "metadata": {},
   "outputs": [],
   "source": [
    "a = 9.8 * meter / second**2\n",
    "t = 3.4 * second"
   ]
  },
  {
   "cell_type": "code",
   "execution_count": 40,
   "id": "primary-partner",
   "metadata": {},
   "outputs": [],
   "source": [
    "#a + t"
   ]
  },
  {
   "cell_type": "markdown",
   "id": "legal-audio",
   "metadata": {},
   "source": [
    "In this example, you should get a `DimensionalityError`, which indicates that you have violated a rule of dimensional analysis: you cannot add quantities with different dimensions.\n",
    "\n",
    "The error messages you get from Python are big and scary, but if you read them carefully, they contain a lot of useful information.\n",
    "\n",
    "The last line usually tells you what type of error happened, and sometimes additional information, so you might want to start from the bottom and read up.\n",
    "\n",
    "The previous lines are a *traceback* of what was happening when the error occurred.  The first section of the traceback shows the code you wrote.  The following sections are often from Python libraries."
   ]
  },
  {
   "cell_type": "markdown",
   "id": "steady-chancellor",
   "metadata": {
    "tags": []
   },
   "source": [
    "Before you go on, you might want to delete the erroneous code so the notebook can run without errors."
   ]
  },
  {
   "cell_type": "markdown",
   "id": "valid-empire",
   "metadata": {},
   "source": [
    "### Exercise 5\n",
    "\n",
    "Suppose instead of dropping the penny, you throw it downward at its terminal velocity, $29$ m/s.  How long would it take to fall $381$ m?"
   ]
  },
  {
   "cell_type": "code",
   "execution_count": 36,
   "id": "greenhouse-reason",
   "metadata": {},
   "outputs": [],
   "source": [
    "# Solution goes here"
   ]
  },
  {
   "cell_type": "markdown",
   "id": "asian-murray",
   "metadata": {},
   "source": [
    "### Exercise 6:\n",
    "\n",
    "So far we have considered two models of a falling penny:\n",
    "\n",
    "* If we ignore air resistance, the penny falls with constant acceleration, and we can compute the time to reach the sidewalk and the velocity of the penny when it gets there.\n",
    "\n",
    "* If we take air resistance into account, and drop the penny at its terminal velocity, it falls with constant velocity. \n",
    "\n",
    "Now let's consider a third model that includes elements of the first two: let's assume that the acceleration of the penny is `a` until the penny reaches $29$ m/s, and then $0$ m/s$^2$ afterwards.  What is the total time for the penny to fall $381$ m?"
   ]
  },
  {
   "cell_type": "markdown",
   "id": "detailed-minnesota",
   "metadata": {},
   "source": [
    "You can break this question into three parts:\n",
    "\n",
    "1. How long would the penny take to reach $29$ m/s with constant acceleration `a`.\n",
    "2. How far would it fall during that time?\n",
    "3. How long would it take to fall the remaining distance with constant velocity $29$ m/s?\n",
    "\n",
    "Suggestion: Assign each intermediate result to a variable with a meaningful name.  And assign units to all quantities!"
   ]
  },
  {
   "cell_type": "code",
   "execution_count": 37,
   "id": "secure-crowd",
   "metadata": {},
   "outputs": [],
   "source": [
    "a = 9.8 * meter / second**2\n",
    "h = 381 * meter"
   ]
  },
  {
   "cell_type": "code",
   "execution_count": 38,
   "id": "thirty-minneapolis",
   "metadata": {},
   "outputs": [],
   "source": [
    "# Solution goes here"
   ]
  },
  {
   "cell_type": "code",
   "execution_count": 39,
   "id": "premier-seeking",
   "metadata": {},
   "outputs": [],
   "source": [
    "# Solution goes here"
   ]
  },
  {
   "cell_type": "code",
   "execution_count": 40,
   "id": "brave-laundry",
   "metadata": {},
   "outputs": [],
   "source": [
    "# Solution goes here"
   ]
  },
  {
   "cell_type": "code",
   "execution_count": 41,
   "id": "adjusted-consultation",
   "metadata": {},
   "outputs": [],
   "source": [
    "# Solution goes here"
   ]
  },
  {
   "cell_type": "code",
   "execution_count": 42,
   "id": "understanding-consortium",
   "metadata": {},
   "outputs": [],
   "source": [
    "# Solution goes here"
   ]
  },
  {
   "cell_type": "markdown",
   "id": "composed-tunnel",
   "metadata": {},
   "source": [
    "### Exercise 7\n",
    "\n",
    "When I was in high school, the pitcher on the baseball team claimed that when he threw a fastball he was throwing the ball down; that is, the ball left his hand at a downward angle.\n",
    "I was skeptical; watching from the side, I thought the ball left his hand at an upward angle.\n",
    "\n",
    "Can you think of a simple model you could use to settle the argument?  What factors would you include and what could you ignore?  What quantities would you have to look up or estimate?\n",
    "\n",
    "I suggest you convert all quantities to SI units like meters and seconds (see <https://en.wikipedia.org/wiki/International_System_of_Units>)."
   ]
  },
  {
   "cell_type": "code",
   "execution_count": 43,
   "id": "about-complex",
   "metadata": {},
   "outputs": [],
   "source": [
    "# Solution goes here"
   ]
  },
  {
   "cell_type": "code",
   "execution_count": 44,
   "id": "unique-owner",
   "metadata": {},
   "outputs": [],
   "source": [
    "# Solution goes here"
   ]
  },
  {
   "cell_type": "code",
   "execution_count": 45,
   "id": "minus-batman",
   "metadata": {},
   "outputs": [],
   "source": [
    "# Solution goes here"
   ]
  },
  {
   "cell_type": "code",
   "execution_count": 46,
   "id": "exact-vegetable",
   "metadata": {},
   "outputs": [],
   "source": [
    "# Solution goes here"
   ]
  },
  {
   "cell_type": "code",
   "execution_count": 47,
   "id": "neutral-lightning",
   "metadata": {},
   "outputs": [],
   "source": [
    "# Solution goes here"
   ]
  },
  {
   "cell_type": "markdown",
   "id": "jewish-secret",
   "metadata": {},
   "source": [
    "### Exercise 8\n",
    "\n",
    "Suppose I run a 10K race in 44:52 (44 minutes and 52 seconds).  What is my average pace in minutes per mile?"
   ]
  },
  {
   "cell_type": "code",
   "execution_count": 48,
   "id": "virgin-cambodia",
   "metadata": {},
   "outputs": [],
   "source": [
    "mile = units.mile\n",
    "kilometer = units.kilometer\n",
    "minute = units.minute"
   ]
  },
  {
   "cell_type": "code",
   "execution_count": 49,
   "id": "right-intention",
   "metadata": {},
   "outputs": [],
   "source": [
    "# Solution goes here"
   ]
  },
  {
   "cell_type": "code",
   "execution_count": 50,
   "id": "mineral-sally",
   "metadata": {},
   "outputs": [],
   "source": [
    "# Solution goes here"
   ]
  },
  {
   "cell_type": "code",
   "execution_count": 51,
   "id": "coral-camel",
   "metadata": {},
   "outputs": [],
   "source": [
    "# Solution goes here"
   ]
  },
  {
   "cell_type": "code",
   "execution_count": 52,
   "id": "preceding-cricket",
   "metadata": {},
   "outputs": [],
   "source": [
    "# Solution goes here"
   ]
  },
  {
   "cell_type": "code",
   "execution_count": 53,
   "id": "effective-rendering",
   "metadata": {},
   "outputs": [],
   "source": [
    "# Solution goes here"
   ]
  },
  {
   "cell_type": "code",
   "execution_count": 54,
   "id": "printable-reply",
   "metadata": {},
   "outputs": [],
   "source": [
    "# Solution goes here"
   ]
  },
  {
   "cell_type": "markdown",
   "id": "environmental-wallet",
   "metadata": {
    "tags": []
   },
   "source": [
    "## More Jupyter\n",
    "\n",
    "You can add and remove cells from a notebook using the buttons in the toolbar and the items in the menu, both of which you should see at the top of this notebook.\n",
    "\n",
    "Try the following exercises:\n",
    "\n",
    "1.  From the Insert menu select \"Insert cell below\" to add a cell below this one.  By default, you get a code cell, as you can see in the pulldown menu that says \"Code\".\n",
    "\n",
    "2.  In the new cell, add a print statement like `print('Hello')`, and run it.\n",
    "\n",
    "3.  Add another cell, select the new cell, and then click on the pulldown menu that says \"Code\" and select \"Markdown\".  This makes the new cell a text cell.\n",
    "\n",
    "4.  In the new cell, type some text, and then run it.\n",
    "\n",
    "5.  Use the arrow buttons in the toolbar to move cells up and down.\n",
    "\n",
    "6.  Use the cut, copy, and paste buttons to delete, add, and move cells.\n",
    "\n",
    "7.  As you make changes, Jupyter saves your notebook automatically, but if you want to make sure, you can press the save button, which looks like a floppy disk from the 1990s.\n",
    "\n",
    "8.  Finally, when you are done with a notebook, select \"Close and Halt\" from the File menu."
   ]
  },
  {
   "cell_type": "markdown",
   "id": "successful-kentucky",
   "metadata": {
    "tags": []
   },
   "source": [
    "When you change the contents of a cell, you have to run it again for those changes to have an effect.  If you forget to do that, the results can be confusing, because the code you are looking at is not the code you ran.\n",
    "\n",
    "If you ever lose track of which cells have run, and in what order, you should go to the Kernel menu and select \"Restart & Run All\".  Restarting the kernel means that all of your variables get deleted, and running all the cells means all of your code will run again, in the right order.\n",
    "\n",
    "Select \"Restart & Run All\" now and confirm that it runs all of the cells."
   ]
  },
  {
   "cell_type": "code",
   "execution_count": null,
   "id": "weighted-quebec",
   "metadata": {},
   "outputs": [],
   "source": []
  }
 ],
 "metadata": {
  "celltoolbar": "Tags",
  "kernelspec": {
   "display_name": ".venv",
   "language": "python",
   "name": "python3"
  },
  "language_info": {
   "codemirror_mode": {
    "name": "ipython",
    "version": 3
   },
   "file_extension": ".py",
   "mimetype": "text/x-python",
   "name": "python",
   "nbconvert_exporter": "python",
   "pygments_lexer": "ipython3",
   "version": "3.13.1"
  }
 },
 "nbformat": 4,
 "nbformat_minor": 5
}
